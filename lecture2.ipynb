{
 "cells": [
  {
   "cell_type": "code",
   "execution_count": 1,
   "metadata": {},
   "outputs": [
    {
     "name": "stdout",
     "output_type": "stream",
     "text": [
      "Invaild\n"
     ]
    }
   ],
   "source": [
    "amount=int(input(\"Enter A number\"))\n",
    "if amount>1000:\n",
    "    print(amount*0.5)\n",
    "elif amount<1000:\n",
    "    print(amount*0.75)\n",
    "else:\n",
    "    print(\"Invaild\")"
   ]
  },
  {
   "cell_type": "code",
   "execution_count": null,
   "metadata": {},
   "outputs": [
    {
     "name": "stdout",
     "output_type": "stream",
     "text": [
      "Invaild\n"
     ]
    }
   ],
   "source": [
    "marks=int(input(\"Enter your Total marks\"))\n",
    "if marks>=90 and marks<=100:\n",
    "    print(\"4\")\n",
    "elif marks>=85 and marks<=89:\n",
    "    print(\"3.75\")\n",
    "elif marks>=80 and marks<=84:\n",
    "    print(\"3.5\")\n",
    "elif marks>=75 and marks<=79:\n",
    "    print(\"3.25\")\n",
    "elif marks>=70 and marks<=74:\n",
    "    print(\"3\")\n",
    "elif marks>=66 and marks<=69:\n",
    "    print(\"2.75\")\n",
    "elif marks>=63 and marks<=65:\n",
    "    print(\"2.5\")\n",
    "elif marks>=60 and marks<=62:\n",
    "    print(\"2\")\n",
    "elif marks>=55 and marks<=59:\n",
    "    print(\"1.5\")\n",
    "elif marks>=0 and marks<=54:\n",
    "    print(\"0\")\n",
    "else:\n",
    "    print(\"Invaild\")\n"
   ]
  },
  {
   "cell_type": "code",
   "execution_count": 12,
   "metadata": {},
   "outputs": [
    {
     "name": "stdout",
     "output_type": "stream",
     "text": [
      "21 x 1 = 21\n",
      "21 x 2 = 42\n",
      "21 x 3 = 63\n",
      "21 x 4 = 84\n",
      "21 x 5 = 105\n",
      "21 x 6 = 126\n",
      "21 x 7 = 147\n",
      "21 x 8 = 168\n",
      "21 x 9 = 189\n",
      "21 x 10 = 210\n"
     ]
    }
   ],
   "source": [
    "count=1\n",
    "num=21\n",
    "while(count<=10):\n",
    "    print(num,\"x\",count,\"=\",num*count)\n",
    "    count+=1"
   ]
  },
  {
   "cell_type": "code",
   "execution_count": 13,
   "metadata": {},
   "outputs": [
    {
     "name": "stdout",
     "output_type": "stream",
     "text": [
      "Answer:  4321\n"
     ]
    }
   ],
   "source": [
    "# Write the code to reserve the number using while loopint\n",
    "num=int(input(\"Enter the number: \"))\n",
    "newnum=0\n",
    "while(num!=0):\n",
    "    lv=num%10\n",
    "    newnum=newnum*10+lv\n",
    "    num=int(num/10)\n",
    "print(\"Answer: \",newnum)"
   ]
  }
 ],
 "metadata": {
  "kernelspec": {
   "display_name": "venv",
   "language": "python",
   "name": "python3"
  },
  "language_info": {
   "codemirror_mode": {
    "name": "ipython",
    "version": 3
   },
   "file_extension": ".py",
   "mimetype": "text/x-python",
   "name": "python",
   "nbconvert_exporter": "python",
   "pygments_lexer": "ipython3",
   "version": "3.10.12"
  }
 },
 "nbformat": 4,
 "nbformat_minor": 2
}
